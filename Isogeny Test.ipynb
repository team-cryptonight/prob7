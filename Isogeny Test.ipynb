{
 "cells": [
  {
   "cell_type": "code",
   "execution_count": 1,
   "id": "c8e001cc-304e-4a0a-a803-73620ea835ff",
   "metadata": {},
   "outputs": [],
   "source": [
    "load(\"consts.sage\")"
   ]
  },
  {
   "cell_type": "markdown",
   "id": "3499c20e-33c2-454c-b4a3-fb41e68ab731",
   "metadata": {},
   "source": [
    "# Isogeny 한번 구해보기\n",
    "직접 isogeny를 구해 SIDH 과정을 따라가보자. 편의상 $n_A = 1, n_B = 2$로 둘 것이다."
   ]
  },
  {
   "cell_type": "code",
   "execution_count": 2,
   "id": "9d478041-9548-4700-b752-64f91cf25cdb",
   "metadata": {},
   "outputs": [],
   "source": [
    "n_A = 1\n",
    "n_B = 2"
   ]
  },
  {
   "cell_type": "markdown",
   "id": "2c006723-fc88-4079-8d78-1ecabef660c0",
   "metadata": {},
   "source": [
    "문제에 나온 대로 kernel의 generator를 구하자."
   ]
  },
  {
   "cell_type": "code",
   "execution_count": 3,
   "id": "12541725-8d70-4265-b4aa-ac707245f1c8",
   "metadata": {},
   "outputs": [],
   "source": [
    "R_A = P_A + n_A * Q_A\n",
    "R_B = P_B + n_B * Q_B"
   ]
  },
  {
   "cell_type": "markdown",
   "id": "023b7b69-ffe7-4188-8079-121964232820",
   "metadata": {},
   "source": [
    "SIKE 표준에 나온 대로 isogney를 구하고, $E_A, \\phi_A(P_B), \\phi_A(Q_B), E_B, \\phi_B(P_A), \\phi_B(Q_A)$를 계산하자."
   ]
  },
  {
   "cell_type": "code",
   "execution_count": 4,
   "id": "2bf831a7-7cc6-4836-8d6a-7bd14cec1fd9",
   "metadata": {},
   "outputs": [
    {
     "name": "stderr",
     "output_type": "stream",
     "text": [
      "/usr/lib/python3.10/site-packages/sage/schemes/elliptic_curves/ell_field.py:965: FutureWarning: EllipticCurveHom_composite is experimental code.\n",
      "See https://trac.sagemath.org/32744 for details.\n",
      "  from sage.schemes.elliptic_curves.hom_composite import EllipticCurveHom_composite\n"
     ]
    }
   ],
   "source": [
    "def isogen(l, e_l, E, S, P, Q):\n",
    "    E_result = E\n",
    "    phi_result = E_result.isogeny(E(0), algorithm=\"factored\")\n",
    "    \n",
    "    for i in range(e_l):\n",
    "        kernel_generator = 2^(e_l - i - 1) * S\n",
    "        phi = E_result.isogeny(kernel_generator, algorithm=\"factored\")\n",
    "        E_result = phi.codomain()\n",
    "        S = phi(S)\n",
    "        phi_result = phi * phi_result\n",
    "    \n",
    "    return E_result, phi_result\n",
    "\n",
    "E_A, phi_A = isogen(2, e_2, E, R_A, P_B, Q_B)\n",
    "E_B, phi_B = isogen(3, e_3, E, R_B, P_A, Q_A)"
   ]
  },
  {
   "cell_type": "markdown",
   "id": "408969ea-a42f-4d33-946b-cf80495a7c80",
   "metadata": {},
   "source": [
    "구한 $\\phi_A$의 커널이 $R_A$를 포함하는 것을 알 수 있다."
   ]
  },
  {
   "cell_type": "code",
   "execution_count": 5,
   "id": "a3bec64f-f26e-4b83-8736-353907edfa18",
   "metadata": {},
   "outputs": [
    {
     "data": {
      "text/plain": [
       "(0 : 1 : 0)"
      ]
     },
     "execution_count": 5,
     "metadata": {},
     "output_type": "execute_result"
    }
   ],
   "source": [
    "phi_A(R_A)"
   ]
  },
  {
   "cell_type": "markdown",
   "id": "bb1537bf-c97c-4675-a4a1-7a66c5acca1f",
   "metadata": {},
   "source": [
    "Isogeny의 degree도 알 수 있다."
   ]
  },
  {
   "cell_type": "code",
   "execution_count": 6,
   "id": "8b7870ed-31fc-4183-864a-f94243798035",
   "metadata": {},
   "outputs": [],
   "source": [
    "assert phi_A.degree() == 2^e_2\n",
    "assert phi_B.degree() == 3^e_3"
   ]
  }
 ],
 "metadata": {
  "kernelspec": {
   "display_name": "SageMath 9.6",
   "language": "sage",
   "name": "sagemath"
  },
  "language_info": {
   "codemirror_mode": {
    "name": "ipython",
    "version": 3
   },
   "file_extension": ".py",
   "mimetype": "text/x-python",
   "name": "python",
   "nbconvert_exporter": "python",
   "pygments_lexer": "ipython3",
   "version": "3.10.5"
  }
 },
 "nbformat": 4,
 "nbformat_minor": 5
}
