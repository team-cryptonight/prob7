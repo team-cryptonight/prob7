{
 "cells": [
  {
   "cell_type": "code",
   "execution_count": 1,
   "id": "913f73b0",
   "metadata": {},
   "outputs": [
    {
     "name": "stdout",
     "output_type": "stream",
     "text": [
      "[3^137]P_B: (0 : 1 : 0)\n",
      "[3^137]Q_B: (0 : 1 : 0)\n",
      "[3^137]phi_A(P_B): (20314135768830290388189654954178921248961093734482455597546316734161213402654924577546519719053593976345730235001102284708449127565*i + 18419074483172063154531186976825724859213345579227358859706942695559588311296641104881246042610512371420065585120118905811279755640 : 12752258132834890357418985233221773973977356859741207843072471977599494786688337760375305848859375131321397216451778591882410461382*i + 10952172632901128263113572394201705755399712379178490579739914779370070277316670867192213643854932237423492381614386261196351352565 : 1)\n",
      "[3^137]phi_A(Q_B): (0 : 1 : 0)\n"
     ]
    }
   ],
   "source": [
    "import string\n",
    "\n",
    "parse_hex = lambda s: int(s.translate({ord(c): None for c in string.whitespace}), 16)\n",
    "\n",
    "p = parse_hex(\"0002341F 27177344 6CFC5FD6 81C52056 7BC65C78 3158AEA3 FDC1767A E2FFFFFF FFFFFFFF FFFFFFFF FFFFFFFF FFFFFFFF FFFFFFFF FFFFFFFF\")\n",
    "e_2 = parse_hex(\"000000D8\")\n",
    "e_3 = parse_hex(\"00000089\")\n",
    "F.<x> = GF(p)[]\n",
    "k.<i> = GF((p, 2), modulus=x^2 + 1)\n",
    "E = EllipticCurve(k, [0, 6, 0, 1, 0])\n",
    "\n",
    "P_B = E(parse_hex(\"00008664 865EA7D8 16F03B31 E223C26D 406A2C6C D0C3D667 466056AA E85895EC 37368BFC 009DFAFC B3D97E63 9F65E9E4 5F46573B 0637B7A9\"),\n",
    "        parse_hex(\"00006AE5 15593E73 97609197 8DFBD70B DA0DD6BC AEEBFDD4 FB1E748D DD9ED3FD CF679726 C67A3B2C C12B3980 5B32B612 E058A428 0764443B\"))\n",
    "Q_B = E(parse_hex(\"00012E84 D7652558 E694BF84 C1FBDAAF 99B83B42 66C32EC6 5B10457B CAF94C63 EB063681 E8B1E739 8C0B241C 19B9665F DB9E1406 DA3D3846\"),\n",
    "        parse_hex(\"0000EBAA A6C73127 1673BEEC E467FD5E D9CC29AB 564BDED7 BDEAA86D D1E0FDDF 399EDCC9 B49C829E F53C7D7A 35C3A074 5D73C424 FB4A5FD2\") * i)\n",
    "\n",
    "A_alice = parse_hex(\"0000C2D29711365E 5AC6CB621574EC6D 2EFAD33760BD5DB3 B74E01533E6E978B D2A992929C0A36D7 32B6AE51D0397225 B6FAC262931F77CD\") + \\\n",
    "          parse_hex(\"00003CAABA21E68C 10C9ADD816980B1D 73822C2CC8D18BCE 22B0904CA99C1A57 8D39CA029E7D28E2 55F2A19941112230 89832831644D66E6\") * i\n",
    "E_A = EllipticCurve(k, [0, A_alice, 0, 1, 0])\n",
    "phi_A_x_P_B = parse_hex(\"000133617DF3EEDE E09DA13528F184DF E8BD912929AC949A F8A887EE9B3A3E43 C6035F5B88E2D82A 2D5AD3C7B1243578 F33CC6C74346FB64\") + \\\n",
    "              parse_hex(\"00000AA8F2D61712 05D359582EEFE035 5E9BA5DC169B0B66 7FCA9EBFF266C138 D7C174B258A561CE FC33AB3DC20AF224 4E4C0FD338EE4C84\") * i\n",
    "phi_A_y_P_B = sqrt(phi_A_x_P_B^3 + A_alice * phi_A_x_P_B^2 + phi_A_x_P_B)\n",
    "phi_A_P_B = E_A(phi_A_x_P_B, phi_A_y_P_B)\n",
    "phi_A_x_Q_B = parse_hex(\"0001A646437477E6 1DFD02DA472AC83C B439354D9F1F7879 9AFFEECD96028D6B E82E73C364291362 AB1F800A9DC4BFF5 58AABED07AE90E39\") + \\\n",
    "              parse_hex(\"0000547960A0A8BA DE1E7B67DC14C850 81150853FEFD48BD 4B3F4F304B29D680 C7D2827C402A222C DB006F3FC8D7A13C 30B9DB783E6B463B\") * i\n",
    "phi_A_y_Q_B = sqrt(phi_A_x_Q_B^3 + A_alice * phi_A_x_Q_B^2 + phi_A_x_Q_B)\n",
    "phi_A_Q_B = E_A(phi_A_x_Q_B, phi_A_y_Q_B)\n",
    "\n",
    "print(\"[3^137]P_B: {}\".format(3^e_3 * P_B))\n",
    "print(\"[3^137]Q_B: {}\".format(3^e_3 * Q_B))\n",
    "print(\"[3^137]phi_A(P_B): {}\".format(3^e_3 * phi_A_P_B))\n",
    "print(\"[3^137]phi_A(Q_B): {}\".format(3^e_3 * phi_A_Q_B))"
   ]
  },
  {
   "cell_type": "code",
   "execution_count": null,
   "id": "376684c8",
   "metadata": {},
   "outputs": [],
   "source": []
  }
 ],
 "metadata": {
  "kernelspec": {
   "display_name": "SageMath 9.5",
   "language": "sage",
   "name": "sagemath"
  },
  "language_info": {
   "codemirror_mode": {
    "name": "ipython",
    "version": 3
   },
   "file_extension": ".py",
   "mimetype": "text/x-python",
   "name": "python",
   "nbconvert_exporter": "python",
   "pygments_lexer": "ipython3",
   "version": "3.10.4"
  }
 },
 "nbformat": 4,
 "nbformat_minor": 5
}
